{
 "cells": [
  {
   "cell_type": "markdown",
   "metadata": {},
   "source": [
    "### Palindromes"
   ]
  },
  {
   "cell_type": "markdown",
   "metadata": {},
   "source": [
    "#### There is code that check whether a string is palindrome or not"
   ]
  },
  {
   "cell_type": "code",
   "execution_count": 16,
   "metadata": {
    "collapsed": true
   },
   "outputs": [],
   "source": [
    "st = \"level\""
   ]
  },
  {
   "cell_type": "code",
   "execution_count": 17,
   "metadata": {},
   "outputs": [
    {
     "name": "stdout",
     "output_type": "stream",
     "text": [
      "a pal\n"
     ]
    }
   ],
   "source": [
    "for i, v in enumerate(st[0:len(st)//2]):\n",
    "    if v != st[-1 - i]:      \n",
    "        print(\"not a pal\")\n",
    "        break\n",
    "else:\n",
    "    print(\"a pal\")"
   ]
  },
  {
   "cell_type": "markdown",
   "metadata": {},
   "source": [
    "#### Let's write a FUNCTION that take a string and check the same, but return True/False instead of print"
   ]
  },
  {
   "cell_type": "code",
   "execution_count": null,
   "metadata": {
    "collapsed": true
   },
   "outputs": [],
   "source": [
    "def is_pal(s):\n",
    "    # TODO:\n",
    "    pass"
   ]
  },
  {
   "cell_type": "markdown",
   "metadata": {},
   "source": [
    "#### Check your function with the following data"
   ]
  },
  {
   "cell_type": "code",
   "execution_count": 4,
   "metadata": {},
   "outputs": [],
   "source": [
    "strings_for_checking = [('anna', True), ('sjfhdf', False), ('AAAA', True), ('123321', True), ('...,.sf4', False)]"
   ]
  },
  {
   "cell_type": "markdown",
   "metadata": {},
   "source": [
    "#### Write code to get to following output"
   ]
  },
  {
   "cell_type": "code",
   "execution_count": 7,
   "metadata": {},
   "outputs": [
    {
     "name": "stdout",
     "output_type": "stream",
     "text": [
      "The string is: anna. Is a palindrome? True. Expected: True\n",
      "The string is: sjfhdf. Is a palindrome? False. Expected: False\n",
      "The string is: AAAA. Is a palindrome? True. Expected: True\n",
      "The string is: 123321. Is a palindrome? True. Expected: True\n",
      "The string is: ...,.sf4. Is a palindrome? False. Expected: False\n"
     ]
    }
   ],
   "source": [
    "# TODO: for over tuples"
   ]
  },
  {
   "cell_type": "markdown",
   "metadata": {},
   "source": [
    "#### Write one more function that works for multiple words strings. See the example below "
   ]
  },
  {
   "cell_type": "code",
   "execution_count": 8,
   "metadata": {
    "collapsed": true
   },
   "outputs": [],
   "source": [
    "st = \"fLee;to me remotE, Elf.\""
   ]
  },
  {
   "cell_type": "code",
   "execution_count": null,
   "metadata": {
    "collapsed": true
   },
   "outputs": [],
   "source": [
    "def is_multiple_word_pal(strs):\n",
    "    pass"
   ]
  },
  {
   "cell_type": "markdown",
   "metadata": {},
   "source": [
    "#### The function should remove any special character and does not match case"
   ]
  },
  {
   "cell_type": "code",
   "execution_count": 9,
   "metadata": {},
   "outputs": [
    {
     "data": {
      "text/plain": [
       "'fleetomeremoteelf'"
      ]
     },
     "execution_count": 9,
     "metadata": {},
     "output_type": "execute_result"
    }
   ],
   "source": [
    "# HINTS: use string.ascii_letters (import string !!) to get only alphabet characters\n",
    "# and filter the others (the filter function or [i for i in [] if ...] expression)"
   ]
  },
  {
   "cell_type": "markdown",
   "metadata": {},
   "source": [
    "#### Put your check code from the above to a function and check with the following strings"
   ]
  },
  {
   "cell_type": "code",
   "execution_count": null,
   "metadata": {
    "collapsed": true
   },
   "outputs": [],
   "source": [
    "strings_for_checking = [\n",
    "    ('fLee;to me remotE, Elf.', True),\n",
    "    ('AAA AAA AAA', True),\n",
    "    ('aBc;NnN%!#$@CbA ', True),\n",
    "    ('sdfdf sdfsdf sdf sdf ', False),\n",
    "    ('RttrtR', False)\n",
    "]"
   ]
  },
  {
   "cell_type": "markdown",
   "metadata": {},
   "source": [
    "### PI"
   ]
  },
  {
   "cell_type": "markdown",
   "metadata": {},
   "source": [
    "#### Compute PI using the following formula"
   ]
  },
  {
   "cell_type": "raw",
   "metadata": {},
   "source": [
    "pi ~ 3 + 4/(2 * 3 * 4) - 4/(4 * 5 * 6) + 4/(5 * 6 * 7) - 4/(6 * 7 * 8) + ..."
   ]
  },
  {
   "cell_type": "markdown",
   "metadata": {},
   "source": [
    "#### Write a function that takes an argument that specify the precision"
   ]
  },
  {
   "cell_type": "code",
   "execution_count": 15,
   "metadata": {},
   "outputs": [
    {
     "name": "stdout",
     "output_type": "stream",
     "text": [
      "3.1666666666666665\n",
      "3.1333333333333333\n",
      "3.145238095238095\n",
      "3.1396825396825396\n",
      "3.1427128427128426\n",
      "3.1408813408813407\n",
      "3.142071817071817\n",
      "3.1412548236077646\n",
      "3.141839618929402\n",
      "3.1414067184965018\n"
     ]
    }
   ],
   "source": [
    "def get_pi(precision):\n",
    "    # TODO: implement the function\n",
    "    pass"
   ]
  },
  {
   "cell_type": "markdown",
   "metadata": {},
   "source": [
    "### CRANGE"
   ]
  },
  {
   "cell_type": "markdown",
   "metadata": {},
   "source": [
    "#### Implement a simple range() function as a generator (def it as crange(start, stop))"
   ]
  },
  {
   "cell_type": "code",
   "execution_count": null,
   "metadata": {
    "collapsed": true
   },
   "outputs": [],
   "source": [
    "def crange(start, stop):\n",
    "    # TODO: use 'for' loop here\n",
    "    pass\n",
    "        \n",
    "def crange_while(start, stop):\n",
    "    # TODO: use 'while' loop here\n",
    "    pass"
   ]
  },
  {
   "cell_type": "markdown",
   "metadata": {},
   "source": [
    "#### Use the following code to check yourself"
   ]
  },
  {
   "cell_type": "code",
   "execution_count": null,
   "metadata": {
    "collapsed": true
   },
   "outputs": [],
   "source": [
    "# should print numbers from 150 to 154\n",
    "for i in crange(150, 155):\n",
    "    print(i)\n",
    "\n",
    "\n",
    "# should print the same as above \n",
    "g = crange(150, 155)\n",
    "print(next(g))\n",
    "print(next(g))\n",
    "print(next(g))\n",
    "print(next(g))\n",
    "print(next(g))\n",
    "\n",
    "# should generate the appropriate list\n",
    "assert list(crange(5, 7)) == [5, 6]"
   ]
  },
  {
   "cell_type": "markdown",
   "metadata": {},
   "source": [
    "### Decorators"
   ]
  },
  {
   "cell_type": "markdown",
   "metadata": {},
   "source": [
    "#### Print the input arguments inside a decorator"
   ]
  },
  {
   "cell_type": "code",
   "execution_count": 18,
   "metadata": {},
   "outputs": [
    {
     "name": "stdout",
     "output_type": "stream",
     "text": [
      "args: (1,); kwargs: {'b': 2, 'c': 3}\n",
      "args: (); kwargs: {'lst': [1, 2, 3]}\n"
     ]
    },
    {
     "data": {
      "text/plain": [
       "[1, 2, 3]"
      ]
     },
     "execution_count": 18,
     "metadata": {},
     "output_type": "execute_result"
    }
   ],
   "source": [
    "def print_args(some_fn):\n",
    "    # TODO:\n",
    "    pass\n",
    "\n",
    "@print_args\n",
    "def fun(a, b, c):\n",
    "    d = a + b + c\n",
    "    return d\n",
    "\n",
    "@print_args\n",
    "def fun_2(lst):\n",
    "    return lst\n",
    "\n",
    "\n",
    "res = fun(1, b=2, c=3)\n",
    "fun_2(lst=[1,2,3])"
   ]
  },
  {
   "cell_type": "markdown",
   "metadata": {},
   "source": [
    "#### Implement a parametrized decorator which checks type of arguments"
   ]
  },
  {
   "cell_type": "code",
   "execution_count": null,
   "metadata": {
    "collapsed": true
   },
   "outputs": [],
   "source": [
    "def validator(*args):\n",
    "    def val_decorator(func):        \n",
    "        def func_wrapper(*func_args):\n",
    "            pass\n",
    "        return func_wrapper\n",
    "    return val_decorator\n",
    "\n",
    "\n",
    "@validator(int, list)\n",
    "def some_fun(a, b):\n",
    "    return a, b\n",
    "\n",
    "some_fun(1, [1,2,3])  # NOT OK, raise ValueError(\"type error\")"
   ]
  },
  {
   "cell_type": "markdown",
   "metadata": {},
   "source": [
    "#### Log to a file"
   ]
  },
  {
   "cell_type": "code",
   "execution_count": null,
   "metadata": {
    "collapsed": true
   },
   "outputs": [],
   "source": [
    "# Write a decorator which wraps functions to log function arguments\n",
    "# and the return value on each call.\n",
    "# Provide support for both positional and\n",
    "# named arguments (your wrapper function should take both\n",
    "# *args and **kwargs and print them both):\n",
    "\n",
    "@logged('log.txt')\n",
    "def func(*args):\n",
    "    return 3 + len(args)\n",
    "\n",
    "func(4, 4, 4)"
   ]
  },
  {
   "cell_type": "raw",
   "metadata": {},
   "source": [
    ">> cat log.txt:\n",
    "\n",
    "'func' was called with the positional args '4, 4, 4' "
   ]
  },
  {
   "cell_type": "code",
   "execution_count": 24,
   "metadata": {},
   "outputs": [],
   "source": [
    "@logged('log2.txt')\n",
    "def simple_sum(a, b, c, **kwargs):\n",
    "    return sum([a, b, c]) + sum(list(kwargs.values()))\n",
    "\n",
    "simple_sum(a=4, b=4, c=4)"
   ]
  },
  {
   "cell_type": "raw",
   "metadata": {},
   "source": [
    ">> cat log2.txt:\n",
    "\n",
    "'simple_sum' was called with the keyword args 'a=4, b=4, c=4' "
   ]
  },
  {
   "cell_type": "markdown",
   "metadata": {},
   "source": [
    "#### Cache function calls results"
   ]
  },
  {
   "cell_type": "code",
   "execution_count": null,
   "metadata": {
    "collapsed": true
   },
   "outputs": [],
   "source": [
    "# Write a decorator to cache function invocation results.\n",
    "# Store pairs arg:result in a dictionary in an\n",
    "# attribute of the function object.\n",
    "# The function being memoized is: fibonacci"
   ]
  },
  {
   "cell_type": "markdown",
   "metadata": {},
   "source": [
    "# Overview"
   ]
  },
  {
   "cell_type": "markdown",
   "metadata": {},
   "source": [
    "### Functions"
   ]
  },
  {
   "cell_type": "code",
   "execution_count": 8,
   "metadata": {},
   "outputs": [
    {
     "name": "stdout",
     "output_type": "stream",
     "text": [
      "101\n"
     ]
    }
   ],
   "source": [
    "def fun(a):\n",
    "    return a + 1\n",
    "\n",
    "print(fun(100))"
   ]
  },
  {
   "cell_type": "code",
   "execution_count": 9,
   "metadata": {},
   "outputs": [
    {
     "name": "stdout",
     "output_type": "stream",
     "text": [
      "[[1, 2, 3], 2, 3]\n"
     ]
    }
   ],
   "source": [
    "def change_list(lst):\n",
    "    lst[0] = [1,2,3]\n",
    "    \n",
    "a = [1,2,3]\n",
    "change_list(a)\n",
    "\n",
    "print(a)"
   ]
  },
  {
   "cell_type": "code",
   "execution_count": 12,
   "metadata": {
    "collapsed": true
   },
   "outputs": [],
   "source": [
    "ran = 15\n",
    "\n",
    "def fun():\n",
    "    a = 1\n",
    "    def fun_inner():\n",
    "        nonlocal a\n",
    "        a += 10\n",
    "        return [i * 2 for i in range(a)]\n",
    "    return fun_inner()"
   ]
  },
  {
   "cell_type": "code",
   "execution_count": 13,
   "metadata": {},
   "outputs": [
    {
     "data": {
      "text/plain": [
       "[0, 2, 4, 6, 8, 10, 12, 14, 16, 18, 20]"
      ]
     },
     "execution_count": 13,
     "metadata": {},
     "output_type": "execute_result"
    }
   ],
   "source": [
    "fun()"
   ]
  },
  {
   "cell_type": "code",
   "execution_count": 14,
   "metadata": {},
   "outputs": [
    {
     "name": "stdout",
     "output_type": "stream",
     "text": [
      "1, 2, 3, 4, 5, 6, 7, 8, 9, 10, "
     ]
    }
   ],
   "source": [
    "def recurs(a):\n",
    "    print(a, end=', ')\n",
    "    if a < 10:\n",
    "        recurs(a + 1)\n",
    "        \n",
    "recurs(1)"
   ]
  },
  {
   "cell_type": "code",
   "execution_count": 42,
   "metadata": {},
   "outputs": [
    {
     "data": {
      "text/plain": [
       "[3]"
      ]
     },
     "execution_count": 42,
     "metadata": {},
     "output_type": "execute_result"
    }
   ],
   "source": [
    "list(filter(lambda x: x > 2, [1,2,3]))"
   ]
  },
  {
   "cell_type": "code",
   "execution_count": 16,
   "metadata": {},
   "outputs": [
    {
     "name": "stdout",
     "output_type": "stream",
     "text": [
      "(1, 2, 3) <class 'tuple'>\n"
     ]
    }
   ],
   "source": [
    "func = lambda a, b, c: (a, b, c)\n",
    "res = func(1, 2, 3)\n",
    "\n",
    "print(res, type(res))"
   ]
  },
  {
   "cell_type": "code",
   "execution_count": 17,
   "metadata": {},
   "outputs": [
    {
     "data": {
      "text/plain": [
       "['new val 2', 'new val 4', 'new val 6']"
      ]
     },
     "execution_count": 17,
     "metadata": {},
     "output_type": "execute_result"
    }
   ],
   "source": [
    "list(map(lambda x: 'new val %s' % (x * 2), [1,2,3]))"
   ]
  },
  {
   "cell_type": "markdown",
   "metadata": {},
   "source": [
    "### Generators"
   ]
  },
  {
   "cell_type": "code",
   "execution_count": 68,
   "metadata": {
    "collapsed": true
   },
   "outputs": [],
   "source": [
    "def not_gen():\n",
    "    return 10\n",
    "\n",
    "\n",
    "def gen():\n",
    "    a = 100500\n",
    "    yield a\n",
    "    \n",
    "    b = a - 500\n",
    "    yield b \n",
    "    \n",
    "g = gen()"
   ]
  },
  {
   "cell_type": "code",
   "execution_count": 69,
   "metadata": {},
   "outputs": [
    {
     "data": {
      "text/plain": [
       "100500"
      ]
     },
     "execution_count": 69,
     "metadata": {},
     "output_type": "execute_result"
    }
   ],
   "source": [
    "next(g)"
   ]
  },
  {
   "cell_type": "code",
   "execution_count": 70,
   "metadata": {},
   "outputs": [
    {
     "data": {
      "text/plain": [
       "100000"
      ]
     },
     "execution_count": 70,
     "metadata": {},
     "output_type": "execute_result"
    }
   ],
   "source": [
    "next(g)"
   ]
  },
  {
   "cell_type": "code",
   "execution_count": 71,
   "metadata": {},
   "outputs": [
    {
     "ename": "StopIteration",
     "evalue": "",
     "output_type": "error",
     "traceback": [
      "\u001b[0;31m---------------------------------------------------------------------------\u001b[0m",
      "\u001b[0;31mStopIteration\u001b[0m                             Traceback (most recent call last)",
      "\u001b[0;32m<ipython-input-71-5f315c5de15b>\u001b[0m in \u001b[0;36m<module>\u001b[0;34m()\u001b[0m\n\u001b[0;32m----> 1\u001b[0;31m \u001b[0mnext\u001b[0m\u001b[0;34m(\u001b[0m\u001b[0mg\u001b[0m\u001b[0;34m)\u001b[0m\u001b[0;34m\u001b[0m\u001b[0m\n\u001b[0m",
      "\u001b[0;31mStopIteration\u001b[0m: "
     ]
    }
   ],
   "source": [
    "next(g)"
   ]
  },
  {
   "cell_type": "code",
   "execution_count": 72,
   "metadata": {},
   "outputs": [
    {
     "data": {
      "text/plain": [
       "100500"
      ]
     },
     "execution_count": 72,
     "metadata": {},
     "output_type": "execute_result"
    }
   ],
   "source": [
    "g2 = gen()\n",
    "next(g2)"
   ]
  },
  {
   "cell_type": "markdown",
   "metadata": {},
   "source": [
    "### Decoratos"
   ]
  },
  {
   "cell_type": "markdown",
   "metadata": {},
   "source": [
    "#### Main idea"
   ]
  },
  {
   "cell_type": "code",
   "execution_count": null,
   "metadata": {
    "collapsed": true
   },
   "outputs": [],
   "source": [
    "def my_decorator(some_function):\n",
    "\n",
    "    def wrapper(a):\n",
    "        print(\"Something is happening before some_function() is called.\")\n",
    "        print(some_function, a)\n",
    "        res = some_function(a)\n",
    "\n",
    "        print(\"Something is happening after some_function() is called.\")\n",
    "        return res\n",
    "\n",
    "    return wrapper\n",
    "\n",
    "\n",
    "def just_some_function(name):\n",
    "    print(\"Wheee! %s\" % name)\n",
    "    return 1\n",
    "\n",
    "\n",
    "just_some_function_1 = my_decorator(just_some_function)\n",
    "\n",
    "res = just_some_function_1(\"SomeName\")\n",
    "print(res)"
   ]
  },
  {
   "cell_type": "markdown",
   "metadata": {},
   "source": [
    "#### Simple example"
   ]
  },
  {
   "cell_type": "code",
   "execution_count": null,
   "metadata": {
    "collapsed": true
   },
   "outputs": [],
   "source": [
    "# simple decorator\n",
    "def p_decorate(func):\n",
    "    def func_wrapper(name):\n",
    "        return \"<p>{0}</p>\".format(func(name))\n",
    "    return func_wrapper\n",
    "\n",
    "@p_decorate\n",
    "def get_text(name):\n",
    "    return \"lorem ipsum, {0} dolor sit amet\".format(name)\n",
    "\n",
    "@p_decorate\n",
    "def get_text2(name):\n",
    "    return \"lorem ipsum, {0}\".format(name)\n",
    "\n",
    "print(get_text(name=\"some name\"))\n",
    "print(get_text(name=\"some name 2\"))"
   ]
  },
  {
   "cell_type": "markdown",
   "metadata": {},
   "source": [
    "#### With a parameter"
   ]
  },
  {
   "cell_type": "code",
   "execution_count": null,
   "metadata": {
    "collapsed": true
   },
   "outputs": [],
   "source": [
    "# decorator with parameters\n",
    "def tags(tag_name):\n",
    "    def tags_decorator(func):\n",
    "        def func_wrapper(name):\n",
    "            \"\"\"\n",
    "            this is func_wr\n",
    "            \"\"\"\n",
    "            return \"<{0}>{1}</{0}>\".format(tag_name, func(name))\n",
    "        return func_wrapper\n",
    "    return tags_decorator\n",
    "\n",
    "@tags(\"p\")\n",
    "def get_text(name):\n",
    "    return \"Hello \" + name\n",
    "\n",
    "get_text(name=\"username\")\n",
    "print(get_text.__name__)\n",
    "print(get_text.__doc__)\n",
    "print(get_text.__module__)"
   ]
  },
  {
   "cell_type": "markdown",
   "metadata": {},
   "source": [
    "#### With keeping a proper name/doc/etc"
   ]
  },
  {
   "cell_type": "code",
   "execution_count": null,
   "metadata": {
    "collapsed": true
   },
   "outputs": [],
   "source": [
    "# wraps\n",
    "from functools import wraps\n",
    "\n",
    "def tags(tag_name):\n",
    "    def tags_decorator(func):\n",
    "        @wraps(func)\n",
    "        def func_wrapper(name):\n",
    "            return \"<{0}>{1}</{0}>\".format(tag_name, func(name))\n",
    "        return func_wrapper\n",
    "    return tags_decorator\n",
    "\n",
    "@tags(\"p\")\n",
    "def get_text(name):\n",
    "    \"\"\"returns some text\"\"\"\n",
    "    return \"Hello \" + name\n",
    "\n",
    "# but without \"wraps\" - decorator info\n",
    "print(get_text.__name__)\n",
    "print(get_text.__doc__)\n",
    "print(get_text.__module__)"
   ]
  },
  {
   "cell_type": "markdown",
   "metadata": {},
   "source": [
    "### Example with file processing"
   ]
  },
  {
   "cell_type": "code",
   "execution_count": null,
   "metadata": {
    "collapsed": true
   },
   "outputs": [],
   "source": [
    "def open_file(func):\n",
    "    def wrapper(filename):\n",
    "        f = open(filename, 'w')\n",
    "        func(f)\n",
    "    return wrapper\n",
    "\n",
    "def file_processing(file):\n",
    "    file.write(\"hello\")\n",
    "\n",
    "@open_file\n",
    "def file_processing_1(file):\n",
    "    file.write(\"hello\")\n",
    "    \n",
    "file_processing(\"filename\")"
   ]
  }
 ],
 "metadata": {
  "kernelspec": {
   "display_name": "Python 3",
   "language": "python",
   "name": "python3"
  },
  "language_info": {
   "codemirror_mode": {
    "name": "ipython",
    "version": 3
   },
   "file_extension": ".py",
   "mimetype": "text/x-python",
   "name": "python",
   "nbconvert_exporter": "python",
   "pygments_lexer": "ipython3",
   "version": "3.6.3"
  }
 },
 "nbformat": 4,
 "nbformat_minor": 2
}
