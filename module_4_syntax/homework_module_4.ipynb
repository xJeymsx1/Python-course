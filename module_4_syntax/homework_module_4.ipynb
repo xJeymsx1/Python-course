{
 "cells": [
  {
   "cell_type": "markdown",
   "metadata": {},
   "source": [
    "### 1"
   ]
  },
  {
   "cell_type": "code",
   "execution_count": 12,
   "metadata": {
    "collapsed": true
   },
   "outputs": [],
   "source": [
    "arr = list(range(100))\n",
    "\n",
    "only_even_arr = []\n",
    "# Use `list comprehension` for filling `only_even_arr` list.\n",
    "# Add only even number from `arr`"
   ]
  },
  {
   "cell_type": "code",
   "execution_count": 13,
   "metadata": {},
   "outputs": [
    {
     "name": "stdout",
     "output_type": "stream",
     "text": [
      "[0, 2, 4, 6, 8, 10, 12, 14, 16, 18, 20, 22, 24, 26, 28, 30, 32, 34, 36, 38, 40, 42, 44, 46, 48, 50, 52, 54, 56, 58, 60, 62, 64, 66, 68, 70, 72, 74, 76, 78, 80, 82, 84, 86, 88, 90, 92, 94, 96, 98]\n"
     ]
    }
   ],
   "source": [
    "print(only_even_arr)"
   ]
  },
  {
   "cell_type": "markdown",
   "metadata": {},
   "source": [
    "### 2"
   ]
  },
  {
   "cell_type": "code",
   "execution_count": 9,
   "metadata": {},
   "outputs": [
    {
     "name": "stdout",
     "output_type": "stream",
     "text": [
      " 0  0  0  0  0  0  0  0  0  0 \n",
      " 0  1  2  3  4  5  6  7  8  9 \n",
      " 0  2  4  6  8  10 12 14 16 18\n",
      " 0  3  6  9  12 15 18 21 24 27\n",
      " 0  4  8  12 16 20 24 28 32 36\n",
      " 0  5  10 15 20 25 30 35 40 45\n",
      " 0  6  12 18 24 30 36 42 48 54\n",
      " 0  7  14 21 28 35 42 49 56 63\n",
      " 0  8  16 24 32 40 48 56 64 72\n",
      " 0  9  18 27 36 45 54 63 72 81\n"
     ]
    }
   ],
   "source": [
    "# Display a multiplication table that shows\n",
    "# the products of all combinations of integers\n",
    "# from 1 times 1 up to and including 10 times 10\n",
    "\n",
    "ranged_list = []  # produce numbers from 0 to 10\n",
    "\n",
    "for row in ranged_list:\n",
    "    for col in ranged_list):\n",
    "        # some print here\n",
    "        pass\n",
    "    # and print here"
   ]
  },
  {
   "cell_type": "markdown",
   "metadata": {},
   "source": [
    "### 3"
   ]
  },
  {
   "cell_type": "code",
   "execution_count": 15,
   "metadata": {},
   "outputs": [
    {
     "name": "stdout",
     "output_type": "stream",
     "text": [
      "6 <= Update\n",
      "8 <= Update\n",
      "9 <= Update\n",
      "4\n",
      "1\n",
      "7\n",
      "5\n",
      "2\n",
      "0\n",
      "3\n",
      "max: 9; update numbers 3\n"
     ]
    }
   ],
   "source": [
    "# Generate 100 random integers between 1 and 100.\n",
    "# Check each integer as it is generated to see if\n",
    "# it is larger than the maximum number encountered so far.\n",
    "# If larger => print \" <= Update\" next to the generated integer.\n",
    "# Print the max value and number of updates at the end of output\n",
    "\n",
    "import random  # use random module to generate pseudorandom value\n",
    "\n",
    "# try with less value first, then change to 100\n",
    "volume = 10\n",
    "\n",
    "arr = []  # use random.sample to generate 100 numbers from 1 to 100 in one row\n",
    "curr_max = 0  # change this number inside `if`\n",
    "update_numbers = 0  # add 1 each time when get update\n",
    "\n",
    "for i in arr:\n",
    "    if True:  # put here an appropriate condition\n",
    "        # print and update vars\n",
    "        pass\n",
    "    else:\n",
    "        # just print current number\n",
    "        pass\n",
    "print(f\"max: {curr_max}; update numbers {update_numbers}\")"
   ]
  },
  {
   "cell_type": "markdown",
   "metadata": {},
   "source": [
    "### 4"
   ]
  },
  {
   "cell_type": "code",
   "execution_count": null,
   "metadata": {
    "collapsed": true
   },
   "outputs": [],
   "source": [
    "# Convert a decimal (base10) number to binary(base2).\n",
    "# Use the algorithm below\n",
    "\n",
    "# Let q represent the number to convert repeat\n",
    "# Set r equal to the remainder when q is divided by 2\n",
    "# Convert r to a string and add it to the beginning of result\n",
    "# Divide q by 2, discarding any remainder, and store the result back into q\n",
    "# until q is 0\n",
    "\n",
    "base10_var = 12345\n",
    "base2_str = \"{0:b}\".format(base10_var)  # use to check the result\n",
    "\n",
    "base2_var = None  # use this var for keeping the result\n",
    "\n",
    "# Implement the algorithm here\n",
    "\n",
    "assert str(base2_var) == base2_str"
   ]
  },
  {
   "cell_type": "markdown",
   "metadata": {},
   "source": [
    "### 5"
   ]
  },
  {
   "cell_type": "code",
   "execution_count": 16,
   "metadata": {},
   "outputs": [
    {
     "name": "stdout",
     "output_type": "stream",
     "text": [
      "{0: 0, 2: 4, 4: 8, 6: 12, 8: 16, 10: 20, 12: 24, 14: 28, 16: 32, 18: 36, 20: 40, 22: 44, 24: 48, 26: 52, 28: 56, 30: 60, 32: 64, 34: 68, 36: 72, 38: 76, 40: 80, 42: 84, 44: 88, 46: 92, 48: 96}\n"
     ]
    }
   ],
   "source": [
    "d = {i: i * 2 for i in range(50) if i % 2 == 0}\n",
    "print(d)"
   ]
  },
  {
   "cell_type": "code",
   "execution_count": 17,
   "metadata": {},
   "outputs": [
    {
     "name": "stdout",
     "output_type": "stream",
     "text": [
      "the value for key '0' is 0\n"
     ]
    },
    {
     "ename": "KeyError",
     "evalue": "1",
     "output_type": "error",
     "traceback": [
      "\u001b[1;31m---------------------------------------------------------------------------\u001b[0m",
      "\u001b[1;31mKeyError\u001b[0m                                  Traceback (most recent call last)",
      "\u001b[1;32m<ipython-input-17-c9a7ca302205>\u001b[0m in \u001b[0;36m<module>\u001b[1;34m()\u001b[0m\n\u001b[0;32m      1\u001b[0m \u001b[1;32mfor\u001b[0m \u001b[0mn\u001b[0m \u001b[1;32min\u001b[0m \u001b[0mrange\u001b[0m\u001b[1;33m(\u001b[0m\u001b[1;36m50\u001b[0m\u001b[1;33m)\u001b[0m\u001b[1;33m:\u001b[0m\u001b[1;33m\u001b[0m\u001b[0m\n\u001b[1;32m----> 2\u001b[1;33m     \u001b[0mprint\u001b[0m\u001b[1;33m(\u001b[0m\u001b[1;34mf\"the value for key '{n}' is {d[n]}\"\u001b[0m\u001b[1;33m)\u001b[0m\u001b[1;33m\u001b[0m\u001b[0m\n\u001b[0m",
      "\u001b[1;31mKeyError\u001b[0m: 1"
     ]
    }
   ],
   "source": [
    "# Use try-except block to intercept the error and print \"no value for key {n}\" in this case\n",
    "\n",
    "for n in range(50):\n",
    "    print(f\"the value for key '{n}' is {d[n]}\")"
   ]
  }
 ],
 "metadata": {
  "kernelspec": {
   "display_name": "Python 3",
   "language": "python",
   "name": "python3"
  },
  "language_info": {
   "codemirror_mode": {
    "name": "ipython",
    "version": 3
   },
   "file_extension": ".py",
   "mimetype": "text/x-python",
   "name": "python",
   "nbconvert_exporter": "python",
   "pygments_lexer": "ipython3",
   "version": "3.6.3"
  }
 },
 "nbformat": 4,
 "nbformat_minor": 2
}
