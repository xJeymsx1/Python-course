{
 "cells": [
  {
   "cell_type": "markdown",
   "metadata": {},
   "source": [
    "### 1"
   ]
  },
  {
   "cell_type": "code",
   "execution_count": 4,
   "metadata": {
    "collapsed": true
   },
   "outputs": [
    {
     "name": "stdout",
     "output_type": "stream",
     "text": [
      "[0, 2, 4, 6, 8, 10, 12, 14, 16, 18, 20, 22, 24, 26, 28, 30, 32, 34, 36, 38, 40, 42, 44, 46, 48, 50, 52, 54, 56, 58, 60, 62, 64, 66, 68, 70, 72, 74, 76, 78, 80, 82, 84, 86, 88, 90, 92, 94, 96, 98]\n"
     ]
    }
   ],
   "source": [
    "arr = list(range(100))\n",
    "\n",
    "only_even_arr = [val for val in arr if not val%2]\n",
    "# Use `list comprehension` for filling `only_even_arr` list.\n",
    "# Add only even number from `arr`\n",
    "print(only_even_arr)"
   ]
  },
  {
   "cell_type": "markdown",
   "metadata": {},
   "source": [
    "### 2"
   ]
  },
  {
   "cell_type": "code",
   "execution_count": 6,
   "metadata": {},
   "outputs": [
    {
     "name": "stdout",
     "output_type": "stream",
     "text": [
      "  0   0   0   0   0   0   0   0   0 \n",
      "  0   1   2   3   4   5   6   8   9 \n",
      "  0   2   4   6   8  10  12  16  18 \n",
      "  0   3   6   9  12  15  18  24  27 \n",
      "  0   4   8  12  16  20  24  32  36 \n",
      "  0   5  10  15  20  25  30  40  45 \n",
      "  0   6  12  18  24  30  36  48  54 \n",
      "  0   8  16  24  32  40  48  64  72 \n",
      "  0   9  18  27  36  45  54  72  81 \n"
     ]
    }
   ],
   "source": [
    "# Display a multiplication table that shows\n",
    "# the products of all combinations of integers\n",
    "# from 1 times 1 up to and including 10 times 10\n",
    "\n",
    "ranged_list = [0,1,2,3,4,5,6,8,9]  # produce numbers from 0 to 10\n",
    "\n",
    "for row in ranged_list:\n",
    "    for col in ranged_list:\n",
    "        product = col * row\n",
    "        print(f\"{product:3}\", end=\" \")\n",
    "    print()\n",
    "\n",
    "\n"
   ]
  },
  {
   "cell_type": "markdown",
   "metadata": {},
   "source": [
    "### 3"
   ]
  },
  {
   "cell_type": "code",
   "execution_count": 9,
   "metadata": {},
   "outputs": [
    {
     "name": "stdout",
     "output_type": "stream",
     "text": [
      "24 <= Update\n",
      "69 <= Update\n",
      "88 <= Update\n",
      "39\n",
      "1\n",
      "35\n",
      "57\n",
      "9\n",
      "77\n",
      "93 <= Update\n",
      "max: 93; update numbers 4\n"
     ]
    }
   ],
   "source": [
    "# Generate 100 random integers between 1 and 100.\n",
    "# Check each integer as it is generated to see if\n",
    "# it is larger than the maximum number encountered so far.\n",
    "# If larger => print \" <= Update\" next to the generated integer.\n",
    "# Print the max value and number of updates at the end of output\n",
    "\n",
    "import random  # use random module to generate pseudorandom value\n",
    "\n",
    "# try with less value first, then change to 100\n",
    "volume = 10\n",
    "\n",
    "arr = random.sample(range(1, 100), volume) # use random.sample to generate 100 numbers from 1 to 100 in one row\n",
    "curr_max = 0  # change this number inside `if`\n",
    "update_numbers = 0  # add 1 each time when get update\n",
    "\n",
    "for i in arr:\n",
    "    if i > curr_max:  # put here an appropriate condition\n",
    "        print(f\"{i} <= Update\")\n",
    "        curr_max = i\n",
    "        update_numbers += 1\n",
    "    else:\n",
    "        print(i)\n",
    "        pass\n",
    "print(f\"max: {curr_max}; update numbers {update_numbers}\")"
   ]
  },
  {
   "cell_type": "markdown",
   "metadata": {},
   "source": [
    "### 4"
   ]
  },
  {
   "cell_type": "code",
   "execution_count": 2,
   "metadata": {
    "collapsed": true
   },
   "outputs": [
    {
     "name": "stdout",
     "output_type": "stream",
     "text": [
      "12345 11000000111001\n"
     ]
    }
   ],
   "source": [
    "# Convert a decimal (base10) number to binary(base2).\n",
    "# Use the algorithm below\n",
    "\n",
    "# Let q represent the number to convert repeat\n",
    "# Set r equal to the remainder when q is divided by 2\n",
    "# Convert r to a string and add it to the beginning of result\n",
    "# Divide q by 2, discarding any remainder, and store the result back into q\n",
    "# until q is 0\n",
    "\n",
    "base10_var = 12345\n",
    "base2_str = \"{0:b}\".format(base10_var)  # use to check the result\n",
    "\n",
    "base2_var = \"\"  # use this var for keeping the result\n",
    "\n",
    "q = base10_var\n",
    "\n",
    "while q > 0:\n",
    "    r = q % 2\n",
    "    base2_var = str(r) + base2_var\n",
    "    q = q // 2\n",
    "\n",
    "base2_var = int(base2_var)\n",
    "\n",
    "assert str(base2_var) == base2_str\n",
    "\n",
    "print(base10_var, base2_var)"
   ]
  },
  {
   "cell_type": "markdown",
   "metadata": {},
   "source": [
    "### 5"
   ]
  },
  {
   "cell_type": "code",
   "execution_count": 32,
   "metadata": {},
   "outputs": [
    {
     "name": "stdout",
     "output_type": "stream",
     "text": [
      "{0: 0, 2: 4, 4: 8, 6: 12, 8: 16, 10: 20, 12: 24, 14: 28, 16: 32, 18: 36, 20: 40, 22: 44, 24: 48, 26: 52, 28: 56, 30: 60, 32: 64, 34: 68, 36: 72, 38: 76, 40: 80, 42: 84, 44: 88, 46: 92, 48: 96}\n",
      "the value for key '0' is 0\n",
      "no value for key '1'\n",
      "the value for key '2' is 4\n",
      "no value for key '3'\n",
      "the value for key '4' is 8\n",
      "no value for key '5'\n",
      "the value for key '6' is 12\n",
      "no value for key '7'\n",
      "the value for key '8' is 16\n",
      "no value for key '9'\n",
      "the value for key '10' is 20\n",
      "no value for key '11'\n",
      "the value for key '12' is 24\n",
      "no value for key '13'\n",
      "the value for key '14' is 28\n",
      "no value for key '15'\n",
      "the value for key '16' is 32\n",
      "no value for key '17'\n",
      "the value for key '18' is 36\n",
      "no value for key '19'\n",
      "the value for key '20' is 40\n",
      "no value for key '21'\n",
      "the value for key '22' is 44\n",
      "no value for key '23'\n",
      "the value for key '24' is 48\n",
      "no value for key '25'\n",
      "the value for key '26' is 52\n",
      "no value for key '27'\n",
      "the value for key '28' is 56\n",
      "no value for key '29'\n",
      "the value for key '30' is 60\n",
      "no value for key '31'\n",
      "the value for key '32' is 64\n",
      "no value for key '33'\n",
      "the value for key '34' is 68\n",
      "no value for key '35'\n",
      "the value for key '36' is 72\n",
      "no value for key '37'\n",
      "the value for key '38' is 76\n",
      "no value for key '39'\n",
      "the value for key '40' is 80\n",
      "no value for key '41'\n",
      "the value for key '42' is 84\n",
      "no value for key '43'\n",
      "the value for key '44' is 88\n",
      "no value for key '45'\n",
      "the value for key '46' is 92\n",
      "no value for key '47'\n",
      "the value for key '48' is 96\n",
      "no value for key '49'\n"
     ]
    }
   ],
   "source": [
    "d = {i: i * 2 for i in range(50) if i % 2 == 0}\n",
    "print(d)\n",
    "# Use try-except block to intercept the error and print \"no value for key {n}\" in this case\n",
    "\n",
    "for n in range(50):\n",
    "    try:\n",
    "        value = d[n]\n",
    "        print(f\"the value for key '{n}' is {value}\")\n",
    "    except KeyError:\n",
    "        print(f\"no value for key '{n}'\")"
   ]
  }
 ],
 "metadata": {
  "kernelspec": {
   "display_name": "Python 3",
   "language": "python",
   "name": "python3"
  },
  "language_info": {
   "codemirror_mode": {
    "name": "ipython",
    "version": 3
   },
   "file_extension": ".py",
   "mimetype": "text/x-python",
   "name": "python",
   "nbconvert_exporter": "python",
   "pygments_lexer": "ipython3",
   "version": "3.11.5"
  }
 },
 "nbformat": 4,
 "nbformat_minor": 2
}
