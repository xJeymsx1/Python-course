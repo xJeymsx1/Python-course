{
 "cells": [
  {
   "cell_type": "markdown",
   "metadata": {
    "collapsed": true
   },
   "source": [
    "# Syntax"
   ]
  },
  {
   "cell_type": "code",
   "execution_count": null,
   "metadata": {
    "collapsed": true
   },
   "outputs": [],
   "source": [
    "- if/elif/else\n",
    "- for/else\n",
    "- while/else\n",
    "- try/except/else/finally"
   ]
  },
  {
   "cell_type": "markdown",
   "metadata": {},
   "source": [
    "### If"
   ]
  },
  {
   "cell_type": "code",
   "execution_count": null,
   "metadata": {
    "collapsed": true
   },
   "outputs": [],
   "source": [
    "the base idea:\n",
    "    \n",
    "if <condition>:\n",
    "    <code if the condition is True>\n",
    "elif <another condition>:  # optional\n",
    "    <code if the elif condition is True>\n",
    "else:\n",
    "    <if the conditions above are False>"
   ]
  },
  {
   "cell_type": "code",
   "execution_count": 2,
   "metadata": {},
   "outputs": [
    {
     "name": "stdout",
     "output_type": "stream",
     "text": [
      "Yeah, 1 is less than 10\n"
     ]
    }
   ],
   "source": [
    "a = 1\n",
    "\n",
    "if a < 10:\n",
    "    print(f\"Yeah, {a} is less than 10\")"
   ]
  },
  {
   "cell_type": "code",
   "execution_count": 3,
   "metadata": {},
   "outputs": [
    {
     "name": "stdout",
     "output_type": "stream",
     "text": [
      "Any case\n"
     ]
    }
   ],
   "source": [
    "some_var = \"some str\"\n",
    "\n",
    "if len(some_var) < 4:\n",
    "    print(\"Try to change the str if you want to see this message\")\n",
    "elif False:\n",
    "    print(\"Never executes\")\n",
    "else:\n",
    "    print(\"Any case\")"
   ]
  },
  {
   "cell_type": "markdown",
   "metadata": {},
   "source": [
    "### Tasks"
   ]
  },
  {
   "cell_type": "markdown",
   "metadata": {},
   "source": [
    "#### Exercise 60: Roulette Payouts (The Python Workbook A Brief Introduction with Exercises and Solutions, Ben Stephenson)"
   ]
  },
  {
   "cell_type": "markdown",
   "metadata": {},
   "source": [
    "A roulette wheel has 38 spaces on it. Of these spaces, 18 are black, 18 are red, and two are green.\n",
    "The green spaces are numbered 0 and 00. The red spaces are numbered 1, 3, 5, 7, 9, 12, 14, 16, 18, 19, 21, 23, 25, 27, 30, 32, 34 and 36.\n",
    "The remaining integers between 1 and 36 are used to number the black spaces.\n",
    "Many different bets can be placed in roulette.\n",
    "We will only consider the following subset of them in this exercise:\n",
    "\n",
    "- Single number (1 to 36, 0, or 00)\n",
    "- Red versus Black\n",
    "- Odd versus Even (Note that 0 and 00 do not pay out for even)\n",
    "- 1 to 18 versus 19 to 36\n",
    "\n",
    "Write a program that simulates a spin of a roulette wheel by using Python’s random number generator.\n",
    "Print the number that was selected and all of the bets that must be payed.\n",
    "For example, if 13 is selected then your program should print:\n",
    "\n",
    "\n",
    "The spin resulted in 13...\n",
    "\n",
    "Pay 13\n",
    "\n",
    "Pay Black\n",
    "\n",
    "Pay Odd\n",
    "\n",
    "Pay 1 to 18\n",
    "\n",
    "If the simulation results in 0 or 00 then your program should print Pay 0 or Pay 00 without any further output."
   ]
  },
  {
   "cell_type": "code",
   "execution_count": 30,
   "metadata": {},
   "outputs": [
    {
     "name": "stdout",
     "output_type": "stream",
     "text": [
      "Pay 6\n",
      "Pay Black\n",
      "Pay Even\n",
      "Pay 1 to 18\n"
     ]
    }
   ],
   "source": [
    "import random\n",
    "val = random.randrange(0, 38)\n",
    "\n",
    "# red: The red spaces are numbered 1, 3, 5, 7, 9, 12,\n",
    "# 14, 16, 18, 19, 21, 23, 25, 27, 30, 32, 34 and 36.\n",
    "# black: others\n",
    "\n",
    "# TODO: print value\n",
    "# 37 is '00'\n",
    "\n",
    "\n",
    "# TODO: check red vs black\n",
    "\n",
    "\n",
    "# TODO: check odd vs even\n",
    "\n",
    "\n",
    "# TODO: check 1 to 18 or 19 to 36"
   ]
  },
  {
   "cell_type": "markdown",
   "metadata": {},
   "source": [
    "### Loops"
   ]
  },
  {
   "cell_type": "code",
   "execution_count": null,
   "metadata": {
    "collapsed": true
   },
   "outputs": [],
   "source": [
    "for <item of this object> in <iterable object>:\n",
    "    <code that may use the item>\n",
    "    \n",
    "while <condition>:\n",
    "    <runs if the condition is True>"
   ]
  },
  {
   "cell_type": "code",
   "execution_count": 5,
   "metadata": {},
   "outputs": [
    {
     "name": "stdout",
     "output_type": "stream",
     "text": [
      "0\n",
      "1\n",
      "2\n",
      "3\n",
      "4\n"
     ]
    }
   ],
   "source": [
    "for i in range(5):\n",
    "    print(i)"
   ]
  },
  {
   "cell_type": "code",
   "execution_count": 6,
   "metadata": {},
   "outputs": [
    {
     "name": "stdout",
     "output_type": "stream",
     "text": [
      "0.30303030303030304\n",
      "0.6060606060606061\n",
      "0.9090909090909091\n"
     ]
    }
   ],
   "source": [
    "for just_a_name in [1, 2, 3]:\n",
    "    a = just_a_name * 10\n",
    "    print(a / 33)"
   ]
  },
  {
   "cell_type": "code",
   "execution_count": 10,
   "metadata": {},
   "outputs": [
    {
     "name": "stdout",
     "output_type": "stream",
     "text": [
      "9 False\n",
      "8 True\n",
      "7 False\n",
      "6 True\n",
      "5 False\n",
      "4 True\n",
      "3 False\n",
      "2 True\n",
      "1 False\n",
      "0 True\n"
     ]
    }
   ],
   "source": [
    "\n",
    "i = 10\n",
    "while i > 0:\n",
    "    i -= 1\n",
    "    print(i, i % 2 == 0)"
   ]
  },
  {
   "cell_type": "code",
   "execution_count": 11,
   "metadata": {},
   "outputs": [
    {
     "name": "stdout",
     "output_type": "stream",
     "text": [
      "1\n",
      "3\n",
      "just after all iterations\n"
     ]
    }
   ],
   "source": [
    "# continue, else\n",
    "\n",
    "for i in (1, 2, 3):\n",
    "    if i == 2:\n",
    "        # move to the next iteration just from here\n",
    "        continue\n",
    "    print(i)\n",
    "else:\n",
    "    print(\"just after all iterations\")"
   ]
  },
  {
   "cell_type": "code",
   "execution_count": 12,
   "metadata": {},
   "outputs": [
    {
     "name": "stdout",
     "output_type": "stream",
     "text": [
      "1\n",
      "2\n"
     ]
    }
   ],
   "source": [
    "# break, else\n",
    "\n",
    "for i in (1, 2, 3):\n",
    "    if i == 3:\n",
    "        # stop the loop\n",
    "        break\n",
    "    print(i)\n",
    "else:\n",
    "    print(\"nothing to print. The loop was broken before the end\")"
   ]
  },
  {
   "cell_type": "code",
   "execution_count": 15,
   "metadata": {},
   "outputs": [
    {
     "name": "stdout",
     "output_type": "stream",
     "text": [
      "4\n",
      "3\n",
      "2\n",
      "1\n"
     ]
    }
   ],
   "source": [
    "# the same logic for while\n",
    "\n",
    "a = list(range(5))\n",
    "while a:  # not empty\n",
    "    item = a.pop()\n",
    "    if item == 0:  # don't print the last popped item\n",
    "        continue\n",
    "    print(item)"
   ]
  },
  {
   "cell_type": "markdown",
   "metadata": {},
   "source": [
    "### Tasks"
   ]
  },
  {
   "cell_type": "markdown",
   "metadata": {},
   "source": [
    "#### Exercise 72: Is a String a Palindrome?"
   ]
  },
  {
   "cell_type": "markdown",
   "metadata": {},
   "source": [
    "A string is a palindrome if it is identical forward and backward.\n",
    "For example \"anna\", \"civic\", \"level\" and \"hannah\" are all examples of palindromic words.\n",
    "Write a program that reads the predefined array of strings and determines whether or not it is a palindrome.\n",
    "Print the result, including a meaningful output message."
   ]
  },
  {
   "cell_type": "code",
   "execution_count": null,
   "metadata": {
    "collapsed": true
   },
   "outputs": [],
   "source": [
    "strs = [\"anna\", \"notapalidrome\",\n",
    "        \"civic\", \"level\"]\n",
    "\n",
    "\n",
    "advanced_strs = [\"l\", \"\", 123]  # yes, the result code should handle these cases as well\n",
    "\n",
    "# TODO: use for-loop and if statement for solving this task"
   ]
  },
  {
   "cell_type": "markdown",
   "metadata": {},
   "source": [
    "### Exceptions"
   ]
  },
  {
   "cell_type": "code",
   "execution_count": null,
   "metadata": {
    "collapsed": true
   },
   "outputs": [],
   "source": [
    "try:\n",
    "    <common code>\n",
    "except <types of Exceptions>:\n",
    "    <some code that handle this>\n",
    "else:\n",
    "    <runs if there is no exception>\n",
    "finally:\n",
    "    <runs in any case>"
   ]
  },
  {
   "cell_type": "code",
   "execution_count": 20,
   "metadata": {},
   "outputs": [
    {
     "name": "stdout",
     "output_type": "stream",
     "text": [
      "got: division by zero\n",
      "always run\n"
     ]
    }
   ],
   "source": [
    "try:\n",
    "    1/0\n",
    "except ZeroDivisionError as e:\n",
    "    print(\"got:\", e)\n",
    "else:\n",
    "    print(\"yeah, print only if no exception\")\n",
    "finally:\n",
    "    print(\"always run\")"
   ]
  },
  {
   "cell_type": "markdown",
   "metadata": {},
   "source": [
    "### Tasks"
   ]
  },
  {
   "cell_type": "code",
   "execution_count": 28,
   "metadata": {},
   "outputs": [
    {
     "name": "stdout",
     "output_type": "stream",
     "text": [
      "[1, 2, 3, 'not found']\n"
     ]
    }
   ],
   "source": [
    "a = [1, 2, 3]\n",
    "\n",
    "try:\n",
    "    item = a[3]\n",
    "except:  # TODO: some exception type\n",
    "    # TODO: assign to time some value in this case (for example \"not found\")\n",
    "    # and add the item to the array (to the missing index)\n",
    "finally:\n",
    "    # TODO: ok, just print the array here"
   ]
  },
  {
   "cell_type": "code",
   "execution_count": 22,
   "metadata": {},
   "outputs": [],
   "source": [
    "filename = \"somenonexistingname.txt\"\n",
    "\n",
    "try:\n",
    "    f = open(filename, \"r\")\n",
    "except:\n",
    "    # TODO: find the exception\n",
    "    # create the empty file (get the name from the given exception)\n",
    "    # open the file again\n",
    "finally:\n",
    "    # TODO: close the file"
   ]
  }
 ],
 "metadata": {
  "kernelspec": {
   "display_name": "Python 3",
   "language": "python",
   "name": "python3"
  },
  "language_info": {
   "codemirror_mode": {
    "name": "ipython",
    "version": 3
   },
   "file_extension": ".py",
   "mimetype": "text/x-python",
   "name": "python",
   "nbconvert_exporter": "python",
   "pygments_lexer": "ipython3",
   "version": "3.6.3"
  }
 },
 "nbformat": 4,
 "nbformat_minor": 2
}
