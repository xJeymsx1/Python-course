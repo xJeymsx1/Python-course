{
 "cells": [
  {
   "cell_type": "code",
   "execution_count": 1,
   "id": "30d74008-3567-41bf-ad2a-90c09e677289",
   "metadata": {},
   "outputs": [
    {
     "name": "stdout",
     "output_type": "stream",
     "text": [
      "Computer got a number to guess\n"
     ]
    },
    {
     "name": "stdin",
     "output_type": "stream",
     "text": [
      "Try #1:  50\n"
     ]
    },
    {
     "name": "stdout",
     "output_type": "stream",
     "text": [
      "Too much\n"
     ]
    },
    {
     "name": "stdin",
     "output_type": "stream",
     "text": [
      "Try #2:  75\n"
     ]
    },
    {
     "name": "stdout",
     "output_type": "stream",
     "text": [
      "Too much\n"
     ]
    },
    {
     "name": "stdin",
     "output_type": "stream",
     "text": [
      "Try #3:  90\n"
     ]
    },
    {
     "name": "stdout",
     "output_type": "stream",
     "text": [
      "Too much\n"
     ]
    },
    {
     "name": "stdin",
     "output_type": "stream",
     "text": [
      "Try #4:  25\n"
     ]
    },
    {
     "name": "stdout",
     "output_type": "stream",
     "text": [
      "Too much\n"
     ]
    },
    {
     "name": "stdin",
     "output_type": "stream",
     "text": [
      "Try #5:  10\n"
     ]
    },
    {
     "name": "stdout",
     "output_type": "stream",
     "text": [
      "Too much\n"
     ]
    },
    {
     "name": "stdin",
     "output_type": "stream",
     "text": [
      "Try #6:  1\n"
     ]
    },
    {
     "name": "stdout",
     "output_type": "stream",
     "text": [
      "Too less\n"
     ]
    },
    {
     "name": "stdin",
     "output_type": "stream",
     "text": [
      "Try #7:  2\n"
     ]
    },
    {
     "name": "stdout",
     "output_type": "stream",
     "text": [
      "Too less\n"
     ]
    },
    {
     "name": "stdin",
     "output_type": "stream",
     "text": [
      "Try #8:  3\n"
     ]
    },
    {
     "name": "stdout",
     "output_type": "stream",
     "text": [
      "You have guessed from 8 try\n"
     ]
    }
   ],
   "source": [
    "from random import random\n",
    "\n",
    "number_to_guess = round(random() * 100)\n",
    "user_try = 1\n",
    "print(\"Computer got a number to guess\")\n",
    "\n",
    "while user_try <= 10:\n",
    "    user_number = int(input('Try #{}: '.format(str(user_try))))\n",
    "    if user_number > number_to_guess:\n",
    "        print('Too much')\n",
    "    elif user_number < number_to_guess:\n",
    "        print('Too less')\n",
    "    else:\n",
    "        print('You have guessed from {} try'.format(user_try))\n",
    "        break\n",
    "    user_try += 1\n",
    "else:\n",
    "    print('You used all your 10 tries, were guessed: ', number_to_guess)"
   ]
  },
  {
   "cell_type": "code",
   "execution_count": null,
   "id": "c5b8b4ed-7f94-4004-b252-e46e130dcc2a",
   "metadata": {},
   "outputs": [],
   "source": []
  }
 ],
 "metadata": {
  "kernelspec": {
   "display_name": "Python 3 (ipykernel)",
   "language": "python",
   "name": "python3"
  },
  "language_info": {
   "codemirror_mode": {
    "name": "ipython",
    "version": 3
   },
   "file_extension": ".py",
   "mimetype": "text/x-python",
   "name": "python",
   "nbconvert_exporter": "python",
   "pygments_lexer": "ipython3",
   "version": "3.11.5"
  }
 },
 "nbformat": 4,
 "nbformat_minor": 5
}
